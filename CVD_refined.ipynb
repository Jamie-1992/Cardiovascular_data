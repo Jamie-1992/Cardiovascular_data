{
 "cells": [
  {
   "cell_type": "markdown",
   "metadata": {},
   "source": [
    "# Cardiovascular disease dataset "
   ]
  },
  {
   "cell_type": "code",
   "execution_count": 23,
   "metadata": {},
   "outputs": [
    {
     "name": "stdout",
     "output_type": "stream",
     "text": [
      "    age  anaemia  creatinine_phosphokinase  diabetes  ejection_fraction  \\\n",
      "0  75.0        0                       582         0                 20   \n",
      "1  55.0        0                      7861         0                 38   \n",
      "2  65.0        0                       146         0                 20   \n",
      "3  50.0        1                       111         0                 20   \n",
      "4  65.0        1                       160         1                 20   \n",
      "\n",
      "   high_blood_pressure  platelets  serum_creatinine  serum_sodium  sex  \\\n",
      "0                    1  265000.00               1.9           130    1   \n",
      "1                    0  263358.03               1.1           136    1   \n",
      "2                    0  162000.00               1.3           129    1   \n",
      "3                    0  210000.00               1.9           137    1   \n",
      "4                    0  327000.00               2.7           116    0   \n",
      "\n",
      "   smoking  time  DEATH_EVENT  \n",
      "0        0     4            1  \n",
      "1        0     6            1  \n",
      "2        1     7            1  \n",
      "3        0     7            1  \n",
      "4        0     8            1  \n"
     ]
    },
    {
     "data": {
      "text/plain": [
       "0    203\n",
       "1     96\n",
       "Name: DEATH_EVENT, dtype: int64"
      ]
     },
     "execution_count": 23,
     "metadata": {},
     "output_type": "execute_result"
    }
   ],
   "source": [
    "import pandas as pd \n",
    "import matplotlib.pyplot as plt\n",
    "\n",
    "CVD = pd.read_csv('CVD.csv')\n",
    "\n",
    "print(CVD.head())\n",
    "CVD.describe()\n",
    "CVD['DEATH_EVENT'].value_counts()\n"
   ]
  },
  {
   "cell_type": "markdown",
   "metadata": {},
   "source": [
    "## Visualizing the categorical variables \n"
   ]
  },
  {
   "cell_type": "markdown",
   "metadata": {},
   "source": [
    "## starting anaemia and death event (1st feature visualisation)"
   ]
  },
  {
   "cell_type": "code",
   "execution_count": 88,
   "metadata": {},
   "outputs": [
    {
     "data": {
      "text/plain": [
       "Text(0.5, 1.0, 'Anaemia')"
      ]
     },
     "execution_count": 88,
     "metadata": {},
     "output_type": "execute_result"
    },
    {
     "data": {
      "image/png": "[encoded data removed]",
      "text/plain": [
       "<Figure size 432x288 with 2 Axes>"
      ]
     },
     "metadata": {
      "needs_background": "light"
     },
     "output_type": "display_data"
    }
   ],
   "source": [
    "\n",
    "pd.DataFrame(CVD.DEATH_EVENT.value_counts(normalize = True)) #shows dataframe of survival vs death\n",
    "\n",
    "Anaem = CVD.groupby('anaemia').DEATH_EVENT.value_counts(normalize=True)\n",
    "Anaem #higher percentage of people who had anaemia died compared to people who did not have anaemia\n",
    "Anaem = Anaem.unstack() #this cleans up the dataframe\n",
    "\n",
    "plt.Figure(figsize=(10,4))\n",
    "\n",
    "plt.subplot(1,2,1)\n",
    "CVD.DEATH_EVENT.value_counts().plot(kind = 'bar', color = ['purple', 'blue'])\n",
    "plt.title('Death')\n",
    "\n",
    "plt.subplot(1,2,2)\n",
    "CVD.anaemia.value_counts().plot(kind = 'bar', color = ['orange', 'red'])\n",
    "plt.title('Anaemia')\n"
   ]
  },
  {
   "cell_type": "markdown",
   "metadata": {},
   "source": [
    "### Pie charts "
   ]
  },
  {
   "cell_type": "code",
   "execution_count": 89,
   "metadata": {},
   "outputs": [
    {
     "data": {
      "text/plain": [
       "Text(0.5, 1.0, 'Anaemia')"
      ]
     },
     "execution_count": 89,
     "metadata": {},
     "output_type": "execute_result"
    },
    {
     "data": {
      "image/png": "[encoded data removed]",
      "text/plain": [
       "<Figure size 432x288 with 2 Axes>"
      ]
     },
     "metadata": {},
     "output_type": "display_data"
    }
   ],
   "source": [
    "plt.Figure(figsize=(10,4))\n",
    "\n",
    "plt.subplot(1,2,1)\n",
    "CVD.DEATH_EVENT.value_counts().plot(kind = 'pie', colors = ['purple', 'blue'])\n",
    "plt.title('Death')\n",
    "\n",
    "plt.subplot(1,2,2)\n",
    "CVD.anaemia.value_counts().plot(kind = 'pie', colors = ['orange', 'red'])\n",
    "plt.title('Anaemia')"
   ]
  },
  {
   "cell_type": "markdown",
   "metadata": {},
   "source": [
    "### Going back to the Anaemia dataframe I created earlier"
   ]
  },
  {
   "cell_type": "code",
   "execution_count": 90,
   "metadata": {},
   "outputs": [
    {
     "data": {
      "text/plain": [
       "<matplotlib.axes._subplots.AxesSubplot at 0x1a80fea98e0>"
      ]
     },
     "execution_count": 90,
     "metadata": {},
     "output_type": "execute_result"
    },
    {
     "data": {
      "image/png": "[encoded data removed]",
      "text/plain": [
       "<Figure size 432x288 with 1 Axes>"
      ]
     },
     "metadata": {
      "needs_background": "light"
     },
     "output_type": "display_data"
    }
   ],
   "source": [
    "Anaem.plot(kind= 'bar') #shows a barplot with anaemia on x axis and death event on y axis. also shows the groups.\n",
    "\n",
    "#note this basically says more people who had anaemia died from CVD supporting our claim\n",
    "\n"
   ]
  },
  {
   "cell_type": "markdown",
   "metadata": {},
   "source": [
    "# Second feature visualization "
   ]
  },
  {
   "cell_type": "code",
   "execution_count": 91,
   "metadata": {},
   "outputs": [
    {
     "data": {
      "text/plain": [
       "<matplotlib.axes._subplots.AxesSubplot at 0x1a80ff189d0>"
      ]
     },
     "execution_count": 91,
     "metadata": {},
     "output_type": "execute_result"
    },
    {
     "data": {
      "image/png": "[encoded data removed]",
      "text/plain": [
       "<Figure size 432x288 with 1 Axes>"
      ]
     },
     "metadata": {
      "needs_background": "light"
     },
     "output_type": "display_data"
    }
   ],
   "source": [
    "Smoker = CVD.groupby('smoking').DEATH_EVENT.value_counts(normalize=True)\n",
    "Smoker = Smoker.unstack() #this cleans up the dataframe\n",
    "Smoker\n",
    "\n",
    "plt.Figure(figsize=(10,4))\n",
    "\n",
    "Smoker.plot(kind = 'bar') #As can be seen, smoking or not smoking resulted in same proportion of deaths.\n"
   ]
  },
  {
   "cell_type": "markdown",
   "metadata": {},
   "source": [
    "# 3rd visualisation"
   ]
  },
  {
   "cell_type": "code",
   "execution_count": 92,
   "metadata": {},
   "outputs": [
    {
     "data": {
      "text/plain": [
       "<matplotlib.axes._subplots.AxesSubplot at 0x1a810f2e340>"
      ]
     },
     "execution_count": 92,
     "metadata": {},
     "output_type": "execute_result"
    },
    {
     "data": {
      "image/png": "[encoded data removed]",
      "text/plain": [
       "<Figure size 432x288 with 1 Axes>"
      ]
     },
     "metadata": {
      "needs_background": "light"
     },
     "output_type": "display_data"
    }
   ],
   "source": [
    "High_blood = CVD.groupby('high_blood_pressure').DEATH_EVENT.value_counts(normalize=True)\n",
    "High_blood = High_blood.unstack() #this cleans up the dataframe\n",
    "High_blood\n",
    "\n",
    "plt.Figure(figsize=(10,4))\n",
    "\n",
    "High_blood.plot(kind = 'bar') #As can be seen from the graph, higher proportion of people died when they also had high blood pressure\n"
   ]
  },
  {
   "cell_type": "markdown",
   "metadata": {},
   "source": [
    "# 4th feature visualisation"
   ]
  },
  {
   "cell_type": "code",
   "execution_count": 93,
   "metadata": {},
   "outputs": [
    {
     "data": {
      "text/plain": [
       "<matplotlib.axes._subplots.AxesSubplot at 0x1a810fa0b50>"
      ]
     },
     "execution_count": 93,
     "metadata": {},
     "output_type": "execute_result"
    },
    {
     "data": {
      "image/png": "[encoded data removed]",
      "text/plain": [
       "<Figure size 432x288 with 1 Axes>"
      ]
     },
     "metadata": {
      "needs_background": "light"
     },
     "output_type": "display_data"
    }
   ],
   "source": [
    "Diab = CVD.groupby('diabetes').DEATH_EVENT.value_counts(normalize=True)\n",
    "Diab = Diab.unstack() #this cleans up the dataframe\n",
    "Diab\n",
    "\n",
    "plt.Figure(figsize=(10,4))\n",
    "\n",
    "Diab.plot(kind = 'bar') #not much difference between the two groups. diabetes no effect on death from CVD?"
   ]
  },
  {
   "cell_type": "markdown",
   "metadata": {},
   "source": [
    "# Building the logistic regression model "
   ]
  },
  {
   "cell_type": "code",
   "execution_count": 100,
   "metadata": {},
   "outputs": [
    {
     "name": "stdout",
     "output_type": "stream",
     "text": [
      "(299, 4)\n",
      "[[0 0 1 0]\n",
      " [0 0 0 0]\n",
      " [0 0 0 1]\n",
      " ...\n",
      " [0 1 0 0]\n",
      " [0 0 0 1]\n",
      " [0 0 0 1]]\n",
      "[[ 0.25764589 -0.00155536  0.32017237 -0.01020847]] [-0.97573867]\n",
      "[0 0 1 0]\n",
      "[0 0 0 0 0 0 0 0 0 0 0 0 0 0 0 0 0 0 0 0 0 0 0 0 0 0 0 0 0 0 0 0 0 0 0 0 0\n",
      " 0 0 0 0 0 0 0 0 0 0 0 0 0 0 0 0 0 0 0 0 0 0 0 0 0 0 0 0 0 0 0 0 0 0 0 0 0\n",
      " 0 0 0 0 0 0 0 0 0 0 0 0 0 0 0 0 0 0 0 0 0 0 0 0 0 0]\n",
      "[1 1 1 1 1 1 1 1 1 1 1 1 1 1 0 1 1 1 1 1 0 1 1 0 1 1 1 1 1 1 1 1 1 0 1 1 1\n",
      " 1 0 1 1 1 1 0 1 1 1 1 1 1 1 1 1 1 1 1 0 0 1 1 1 1 0 1 0 1 1 1 1 1 0 0 1 0\n",
      " 1 1 0 0 0 0 0 0 1 0 1 0 0 0 0 0 0 0 0 1 0 0 0 0 0 0]\n"
     ]
    }
   ],
   "source": [
    "#reducing dataset size to relevant features plus target \n",
    "\n",
    "from sklearn.linear_model import LogisticRegression\n",
    "model = LogisticRegression() \n",
    "\n",
    "#The model has adequate information about the majority class but insufficient information about your minority class. \n",
    "#That is why there will be high misclassification errors for the minority class.\n",
    "\n",
    "#Accuracy is a good measure if our classes are evenly split, but is very misleading if we have imbalanced classes.\n",
    "\n",
    "\n",
    "CVD = CVD[['anaemia','diabetes','high_blood_pressure','smoking','DEATH_EVENT']]\n",
    "CVD.isnull().sum() #no missing values \n",
    "CVD.dtypes #all integer\n",
    "\n",
    "X = CVD[['anaemia', 'diabetes', 'high_blood_pressure', 'smoking']].values #.values converts to numpy array\n",
    "y = CVD.iloc[:,4].values #retrieving target\n",
    "\n",
    "print(X.shape)\n",
    "print(X)\n",
    "y.shape\n",
    "\n",
    "#fitting the model \n",
    "model.fit(X,y)\n",
    "print(model.coef_,model.intercept_)\n",
    "\n",
    "print(X[0]) #predict first datapoint. this is first data point [0 0 1 0]]\n",
    "model.predict([[0,0,1,0]]) #predicted first person did not die.\n",
    "\n",
    "#Seeing how the model predicts for first 100 rows and compare to target array. Predictes all 0 \n",
    "\n",
    "print(model.predict(X[:100]))\n",
    "print(y[:100])\n"
   ]
  },
  {
   "cell_type": "markdown",
   "metadata": {},
   "source": [
    "# Previous predicted all 0 due to inbalance. Now to start exploring other metrics"
   ]
  },
  {
   "cell_type": "code",
   "execution_count": 104,
   "metadata": {},
   "outputs": [
    {
     "name": "stdout",
     "output_type": "stream",
     "text": [
      "whole dataset: (299, 4) (299,)\n",
      "training set: (224, 4) (224,)\n",
      "test set: (75, 4) (75,)\n",
      "Accuracy: 0.7333333333333333\n",
      "precision: 0.0\n",
      "recall: 0.0\n",
      "[[55  0]\n",
      " [20  0]]\n"
     ]
    },
    {
     "name": "stderr",
     "output_type": "stream",
     "text": [
      "C:\\Users\\Jamie\\Documents\\anaconda3\\lib\\site-packages\\sklearn\\metrics\\_classification.py:1221: UndefinedMetricWarning: Precision is ill-defined and being set to 0.0 due to no predicted samples. Use `zero_division` parameter to control this behavior.\n",
      "  _warn_prf(average, modifier, msg_start, len(result))\n"
     ]
    }
   ],
   "source": [
    "#train/test split\n",
    "\n",
    "from sklearn.model_selection import train_test_split\n",
    "from sklearn.metrics import accuracy_score, precision_score, recall_score, f1_score, confusion_matrix, classification_report\n",
    "X_train, X_test, y_train, y_test = train_test_split(X,y, random_state = 1)\n",
    "\n",
    "print(\"whole dataset:\", X.shape, y.shape)\n",
    "print(\"training set:\", X_train.shape, y_train.shape)\n",
    "print(\"test set:\", X_test.shape, y_test.shape)\n",
    "\n",
    "#Building the model \n",
    "\n",
    "model = LogisticRegression()\n",
    "model.fit(X_train, y_train)\n",
    "\n",
    "y_pred = model.predict(X_test)\n",
    "\n",
    "\n",
    "#note accuracy metric not reliable due to unbalance and precision score and recall score had issues due to no false positves or true negatives in the confusion matrix\n",
    "print(\"Accuracy:\", accuracy_score(y_test,y_pred))\n",
    "print(\"precision:\",precision_score(y_test, y_pred)) \n",
    "print(\"recall:\",recall_score(y_test, y_pred))\n",
    "print(confusion_matrix(y_test, y_pred))\n",
    "\n",
    "#issues with these metrics. there is no false positives or true negatives. keep getting 0 for recall score and precision score\n"
   ]
  },
  {
   "cell_type": "markdown",
   "metadata": {},
   "source": [
    "# Sensitivity and specificity "
   ]
  },
  {
   "cell_type": "code",
   "execution_count": 105,
   "metadata": {},
   "outputs": [
    {
     "name": "stdout",
     "output_type": "stream",
     "text": [
      "0.0\n",
      "(array([0.73333333, 0.        ]), array([1., 0.]), array([0.84615385, 0.        ]), array([55, 20], dtype=int64))\n",
      "1.0\n"
     ]
    },
    {
     "name": "stderr",
     "output_type": "stream",
     "text": [
      "C:\\Users\\Jamie\\Documents\\anaconda3\\lib\\site-packages\\sklearn\\metrics\\_classification.py:1221: UndefinedMetricWarning: Precision and F-score are ill-defined and being set to 0.0 in labels with no predicted samples. Use `zero_division` parameter to control this behavior.\n",
      "  _warn_prf(average, modifier, msg_start, len(result))\n"
     ]
    }
   ],
   "source": [
    "#sensitivity = positive recall \n",
    "\n",
    "sensitivity_score = recall_score\n",
    "print(sensitivity_score(y_test,y_pred)) #0 \n",
    "\n",
    "#now for specificity \n",
    "\n",
    "from sklearn.metrics import precision_recall_fscore_support \n",
    "print(precision_recall_fscore_support(y_test, y_pred))\n",
    "\n",
    "#the second array is the recall, first value is for negative class and second value of positive class\n",
    "#second value is standard recall value\n",
    "\n",
    "#writing a function to grab specificity value. note return r[o] goes for second array and first value\n",
    "#p,r,f,s represent the 4 four variables because precision_recall_fscore_support function has 4 arrays. \n",
    "\n",
    "def specificity_score(y_true, y_pred):\n",
    "    p,r,f,s = precision_recall_fscore_support(y_true,y_pred)\n",
    "    return r[0]\n",
    "\n",
    "print(specificity_score(y_test, y_pred)) \n"
   ]
  },
  {
   "cell_type": "markdown",
   "metadata": {},
   "source": [
    "# Adjusting the logistic regression threshold "
   ]
  },
  {
   "cell_type": "code",
   "execution_count": 106,
   "metadata": {},
   "outputs": [
    {
     "name": "stdout",
     "output_type": "stream",
     "text": [
      "[0.35048139 0.30385287 0.40111825 0.28935766 0.40111825 0.29721606\n",
      " 0.34903884 0.28935766 0.34280544 0.35139763 0.30385287 0.29721606\n",
      " 0.33572813 0.30385287 0.28935766 0.29721606 0.29589287 0.39204517\n",
      " 0.3418998  0.35770222 0.40872585 0.35048139 0.28935766 0.40111825\n",
      " 0.35139763 0.28935766 0.28935766 0.28935766 0.39204517 0.34423585\n",
      " 0.29721606 0.30385287 0.34423585 0.35770222 0.35770222 0.39959551\n",
      " 0.35139763 0.30385287 0.29589287 0.34423585 0.35770222 0.34903884\n",
      " 0.40111825 0.29721606 0.29721606 0.35048139 0.30385287 0.35770222\n",
      " 0.33572813 0.35770222 0.30385287 0.33572813 0.34280544 0.34280544\n",
      " 0.34423585 0.28935766 0.35048139 0.28935766 0.39204517 0.34423585\n",
      " 0.3418998  0.29721606 0.35770222 0.40111825 0.30385287 0.34903884\n",
      " 0.29721606 0.35048139 0.30385287 0.29721606 0.30385287 0.29721606\n",
      " 0.34280544 0.30385287 0.28935766]\n",
      "precision: 0.3018867924528302\n",
      "recall: 0.8\n"
     ]
    }
   ],
   "source": [
    "model.predict_proba(X_test)\n",
    "print(model.predict_proba(X_test)[:,1]) #all values where individual died\n",
    "#now we want to set a threshold to make sure we include all individuals who did in fact past away. \n",
    "#at the moment, if higher than 0.30 then classifier predicts death. \n",
    "\n",
    "y_pred = model.predict_proba(X_test)[:,1]>0.30 #if threshold too high then none are predicted as 1 and all predicted points are 0 (alive).\n",
    "\n",
    "print(\"precision:\", precision_score(y_test, y_pred))\n",
    "print(\"recall:\", recall_score(y_test, y_pred))\n",
    "\n",
    "#Note with threshold at 0.30, precision means we correctly predicted people who past away 30% of the time \n",
    "#all people who did die, we detected 80%. \n",
    "#so detected a lot but was quite inaccurate at predicting people who died. (a lot of false positives)\n",
    "#our false negative would be reasonable low e.g. predicting people who didn't die but died.\n",
    "\n"
   ]
  },
  {
   "cell_type": "markdown",
   "metadata": {},
   "source": [
    "# ROC curve "
   ]
  },
  {
   "cell_type": "code",
   "execution_count": 34,
   "metadata": {},
   "outputs": [
    {
     "data": {
      "image/png": "[encoded data removed]",
      "text/plain": [
       "<Figure size 432x288 with 1 Axes>"
      ]
     },
     "metadata": {
      "needs_background": "light"
     },
     "output_type": "display_data"
    }
   ],
   "source": [
    "#some repeated code. roc curve shows different thresholds which represent different models \n",
    "\n",
    "from sklearn.model_selection import train_test_split\n",
    "from sklearn.metrics import roc_curve\n",
    "import matplotlib.pyplot as plt\n",
    "X_train, X_test, y_train, y_test = train_test_split(X,y, random_state = 5)\n",
    "\n",
    "model.fit(X_train, y_train)\n",
    "\n",
    "y_pred_prob = model.predict_proba(X_test)\n",
    "\n",
    "fpr, tpr, thresholds = roc_curve(y_test, y_pred_prob[:,1]) #y_pred_prob shows all people who died. also requires 1d argument\n",
    "\n",
    "plt.plot(fpr,tpr) #fpr is x axis and tpr is y axis\n",
    "plt.plot([0, 1], [0, 1], linestyle = '--') #random line comparing too.\n",
    "plt.xlim([0.0, 1.0])\n",
    "plt.ylim([0.0, 1.0])\n",
    "plt.xlabel(['1 - Specificity'])\n",
    "plt.ylabel(['Sensitivity'])\n",
    "plt.show()\n",
    "\n"
   ]
  },
  {
   "cell_type": "markdown",
   "metadata": {},
   "source": [
    "# Area under the curve"
   ]
  },
  {
   "cell_type": "code",
   "execution_count": 35,
   "metadata": {},
   "outputs": [
    {
     "name": "stdout",
     "output_type": "stream",
     "text": [
      "model 1 AUC score 0.5964837049742711\n",
      "model 2 AUC score 0.6097770154373928\n"
     ]
    }
   ],
   "source": [
    "#To get an empirical measure of this, we calculate the Area Under the Curve, also called the AUC. \n",
    "#This is the area under the ROC curve. It’s a value between 0 and 1, the higher the better.\n",
    "\n",
    "from sklearn.metrics import roc_auc_score\n",
    "\n",
    "CVD = CVD[['anaemia','diabetes','high_blood_pressure','smoking','DEATH_EVENT']]\n",
    "CVD.isnull().sum() #no missing values \n",
    "CVD.dtypes #all integer\n",
    "\n",
    "X = CVD[['anaemia', 'diabetes', 'high_blood_pressure', 'smoking']] \n",
    "y = CVD.iloc[:,4].values \n",
    "\n",
    "X_train, X_test, y_train, y_test = train_test_split(X,y, random_state = 5)\n",
    "\n",
    "#first model has diabetes, anaemica, high blood pressure and smoking features to predict death. \n",
    "y_pred_proba1 = model.predict_proba(X_test)\n",
    "print(\"model 1 AUC score\", roc_auc_score(y_test, y_pred_proba1[:,1]))\n",
    "\n",
    "#trying alternative model, only considering high blood pressure and anaemia \n",
    "\n",
    "X_train2 = X_train[['anaemia', 'high_blood_pressure']]\n",
    "X_test2 = X_test[['anaemia', 'high_blood_pressure']]\n",
    "\n",
    "model2 = LogisticRegression()\n",
    "model2.fit(X_train2, y_train)\n",
    "\n",
    "y_pred_proba2 = model2.predict_proba(X_test2)\n",
    "print(\"model 2 AUC score\", roc_auc_score(y_test, y_pred_proba2[:,1]))\n",
    "\n",
    "\n"
   ]
  },
  {
   "cell_type": "markdown",
   "metadata": {},
   "source": [
    "# K-fold cross validation"
   ]
  },
  {
   "cell_type": "code",
   "execution_count": 45,
   "metadata": {},
   "outputs": [
    {
     "name": "stdout",
     "output_type": "stream",
     "text": [
      "(array([0, 2, 3, 5]), array([1, 4]))\n",
      "training set indices [0 2 3 5]\n",
      "test set indices [1 4]\n",
      "X_train\n",
      "[[0 1]\n",
      " [0 0]\n",
      " [1 0]\n",
      " [1 1]]\n",
      "y_train [1 1 1 1]\n",
      "X_test\n",
      "[[0 0]\n",
      " [1 0]]\n",
      "y_test [1 1]\n"
     ]
    }
   ],
   "source": [
    "#for simplicity, going to take dataset with 6 datapoints and 2 features and a 3-fold cross validation \n",
    "\n",
    "from sklearn.model_selection import KFold\n",
    "\n",
    "X = CVD[['anaemia', 'high_blood_pressure']].values[:6]\n",
    "y = CVD['DEATH_EVENT'].values[:6]\n",
    "\n",
    "#Instantiate a KFold class object \n",
    "\n",
    "kf = KFold(n_splits = 3, shuffle = True)\n",
    "\n",
    "list(kf.split(X))\n",
    "\n",
    "splits = list(kf.split(X))\n",
    "first_split = splits[0] #first train test split\n",
    "print(first_split)\n",
    "\n",
    "#creating variables for train and test split for the two arrays in first split \n",
    "\n",
    "train_indices, test_indices = first_split\n",
    "print(\"training set indices\", train_indices)\n",
    "print(\"test set indices\", test_indices)\n",
    "\n",
    "#now create x_train, y_train, x_test and y_test based on indices \n",
    "\n",
    "X_train = X[train_indices]\n",
    "X_test = X[test_indices]\n",
    "y_train = y[train_indices]\n",
    "y_test = y[test_indices]\n",
    "\n",
    "#making sure correct amount of data points allocated to each group\n",
    "print(\"X_train\")\n",
    "print(X_train)\n",
    "print(\"y_train\", y_train)\n",
    "print(\"X_test\")\n",
    "print(X_test)\n",
    "print(\"y_test\", y_test)\n",
    "\n",
    "\n",
    "\n",
    "\n"
   ]
  },
  {
   "cell_type": "markdown",
   "metadata": {},
   "source": [
    "# Building a model"
   ]
  },
  {
   "cell_type": "code",
   "execution_count": 46,
   "metadata": {},
   "outputs": [
    {
     "name": "stdout",
     "output_type": "stream",
     "text": [
      "0.7\n"
     ]
    }
   ],
   "source": [
    "X = CVD[['anaemia', 'high_blood_pressure', 'diabetes', 'smoking']].values \n",
    "y = CVD['DEATH_EVENT'].values\n",
    "\n",
    "kf = KFold(n_splits = 5, shuffle = True)\n",
    "\n",
    "splits = list(kf.split(X))\n",
    "train_indices, test_indices = splits[0]\n",
    "\n",
    "X_train = X[train_indices]\n",
    "X_test = X[test_indices]\n",
    "y_train = y[train_indices]\n",
    "y_test = y[test_indices]\n",
    "\n",
    "model = LogisticRegression()\n",
    "model.fit(X_train, y_train)\n",
    "print(model.score(X_test, y_test))"
   ]
  },
  {
   "cell_type": "markdown",
   "metadata": {},
   "source": [
    "## Looping over all the folds"
   ]
  },
  {
   "cell_type": "code",
   "execution_count": 107,
   "metadata": {},
   "outputs": [
    {
     "name": "stdout",
     "output_type": "stream",
     "text": [
      "[0.7, 0.7166666666666667, 0.6333333333333333, 0.6666666666666666, 0.6779661016949152]\n",
      "0.6789265536723164\n"
     ]
    },
    {
     "data": {
      "text/plain": [
       "LogisticRegression()"
      ]
     },
     "execution_count": 107,
     "metadata": {},
     "output_type": "execute_result"
    }
   ],
   "source": [
    "import numpy as np\n",
    "scores = []\n",
    "kf = KFold(n_splits=5, shuffle=True)\n",
    "for train_index, test_index in kf.split(X):\n",
    "    X_train, X_test = X[train_index], X[test_index]\n",
    "    y_train, y_test = y[train_index], y[test_index]\n",
    "    model = LogisticRegression()\n",
    "    model.fit(X_train, y_train)\n",
    "    scores.append(model.score(X_test, y_test))\n",
    "print(scores)\n",
    "\n",
    "print(np.mean(scores))\n",
    "\n",
    "\n",
    "#to get best possible model we build on entire dataset but if asked for accuracy, use accuracy calculated by cross validation \n",
    "\n",
    "final_model= LogisticRegression()\n",
    "final_model.fit(X,y)"
   ]
  },
  {
   "cell_type": "markdown",
   "metadata": {},
   "source": [
    "## Going to compare multiple models "
   ]
  },
  {
   "cell_type": "code",
   "execution_count": 114,
   "metadata": {},
   "outputs": [
    {
     "name": "stdout",
     "output_type": "stream",
     "text": [
      "logistic Regression with all features\n",
      "accuracy 0.7393220338983052\n",
      "precision_score 0.684978354978355\n",
      "recall_score 0.3278782342976716\n",
      "f1_scores 0.4278767507002801\n",
      "\n",
      "Logistic Regression with anaemia, high_blood_pressure, diabetes and smoking\n",
      "accuracy 0.6790395480225988\n",
      "precision_score 0.0\n",
      "recall_score 0.0\n",
      "f1_scores 0.0\n",
      "\n",
      "Logistic regression model with just anaemia and high_blood_pressure\n",
      "accuracy 0.6790395480225988\n",
      "precision_score 0.0\n",
      "recall_score 0.0\n",
      "f1_scores 0.0\n"
     ]
    },
    {
     "name": "stderr",
     "output_type": "stream",
     "text": [
      "C:\\Users\\Jamie\\Documents\\anaconda3\\lib\\site-packages\\sklearn\\linear_model\\_logistic.py:762: ConvergenceWarning: lbfgs failed to converge (status=1):\n",
      "STOP: TOTAL NO. of ITERATIONS REACHED LIMIT.\n",
      "\n",
      "Increase the number of iterations (max_iter) or scale the data as shown in:\n",
      "    https://scikit-learn.org/stable/modules/preprocessing.html\n",
      "Please also refer to the documentation for alternative solver options:\n",
      "    https://scikit-learn.org/stable/modules/linear_model.html#logistic-regression\n",
      "  n_iter_i = _check_optimize_result(\n",
      "C:\\Users\\Jamie\\Documents\\anaconda3\\lib\\site-packages\\sklearn\\metrics\\_classification.py:1221: UndefinedMetricWarning: Precision is ill-defined and being set to 0.0 due to no predicted samples. Use `zero_division` parameter to control this behavior.\n",
      "  _warn_prf(average, modifier, msg_start, len(result))\n",
      "C:\\Users\\Jamie\\Documents\\anaconda3\\lib\\site-packages\\sklearn\\metrics\\_classification.py:1221: UndefinedMetricWarning: Precision is ill-defined and being set to 0.0 due to no predicted samples. Use `zero_division` parameter to control this behavior.\n",
      "  _warn_prf(average, modifier, msg_start, len(result))\n",
      "C:\\Users\\Jamie\\Documents\\anaconda3\\lib\\site-packages\\sklearn\\metrics\\_classification.py:1221: UndefinedMetricWarning: Precision is ill-defined and being set to 0.0 due to no predicted samples. Use `zero_division` parameter to control this behavior.\n",
      "  _warn_prf(average, modifier, msg_start, len(result))\n",
      "C:\\Users\\Jamie\\Documents\\anaconda3\\lib\\site-packages\\sklearn\\metrics\\_classification.py:1221: UndefinedMetricWarning: Precision is ill-defined and being set to 0.0 due to no predicted samples. Use `zero_division` parameter to control this behavior.\n",
      "  _warn_prf(average, modifier, msg_start, len(result))\n",
      "C:\\Users\\Jamie\\Documents\\anaconda3\\lib\\site-packages\\sklearn\\metrics\\_classification.py:1221: UndefinedMetricWarning: Precision is ill-defined and being set to 0.0 due to no predicted samples. Use `zero_division` parameter to control this behavior.\n",
      "  _warn_prf(average, modifier, msg_start, len(result))\n",
      "C:\\Users\\Jamie\\Documents\\anaconda3\\lib\\site-packages\\sklearn\\metrics\\_classification.py:1221: UndefinedMetricWarning: Precision is ill-defined and being set to 0.0 due to no predicted samples. Use `zero_division` parameter to control this behavior.\n",
      "  _warn_prf(average, modifier, msg_start, len(result))\n",
      "C:\\Users\\Jamie\\Documents\\anaconda3\\lib\\site-packages\\sklearn\\metrics\\_classification.py:1221: UndefinedMetricWarning: Precision is ill-defined and being set to 0.0 due to no predicted samples. Use `zero_division` parameter to control this behavior.\n",
      "  _warn_prf(average, modifier, msg_start, len(result))\n",
      "C:\\Users\\Jamie\\Documents\\anaconda3\\lib\\site-packages\\sklearn\\metrics\\_classification.py:1221: UndefinedMetricWarning: Precision is ill-defined and being set to 0.0 due to no predicted samples. Use `zero_division` parameter to control this behavior.\n",
      "  _warn_prf(average, modifier, msg_start, len(result))\n",
      "C:\\Users\\Jamie\\Documents\\anaconda3\\lib\\site-packages\\sklearn\\metrics\\_classification.py:1221: UndefinedMetricWarning: Precision is ill-defined and being set to 0.0 due to no predicted samples. Use `zero_division` parameter to control this behavior.\n",
      "  _warn_prf(average, modifier, msg_start, len(result))\n",
      "C:\\Users\\Jamie\\Documents\\anaconda3\\lib\\site-packages\\sklearn\\metrics\\_classification.py:1221: UndefinedMetricWarning: Precision is ill-defined and being set to 0.0 due to no predicted samples. Use `zero_division` parameter to control this behavior.\n",
      "  _warn_prf(average, modifier, msg_start, len(result))\n"
     ]
    }
   ],
   "source": [
    "#logistic regression using all features except for time\n",
    "#logistic regression using  anaemia', 'high_blood_pressure', 'diabetes', 'smoking\n",
    "#Logistic regression using anaemia and high_blood_pressure\n",
    "\n",
    "from sklearn.metrics import accuracy_score, precision_score, recall_score, f1_score\n",
    "import pandas as pd\n",
    "\n",
    "kf = KFold(n_splits = 5, shuffle = True, random_state = 1)\n",
    "\n",
    "\n",
    "CVD = pd.read_csv('CVD.csv')\n",
    "CVD.isnull().sum()\n",
    "CVD.head()\n",
    "\n",
    "X1 = CVD.iloc[:,0:11].values\n",
    "\n",
    "X2 = CVD[['anaemia', 'high_blood_pressure', 'diabetes', 'smoking']].values\n",
    "\n",
    "X3= CVD[['anaemia', 'high_blood_pressure']].values\n",
    "\n",
    "y= CVD['DEATH_EVENT'].values\n",
    "\n",
    "\n",
    "#need to create a function to score X, y and kf \n",
    "\n",
    "def score_model(X,y,kf):\n",
    "    accuracy_scores = []\n",
    "    precision_scores = []\n",
    "    recall_scores = []\n",
    "    f1_scores = []\n",
    "    for train_index, test_index in kf.split(X):\n",
    "        X_train, X_test = X[train_index], X[test_index]\n",
    "        y_train, y_test = y[train_index], y[test_index]\n",
    "        model = LogisticRegression()\n",
    "        model.fit(X_train, y_train)\n",
    "        y_pred = model.predict(X_test)\n",
    "        accuracy_scores.append(accuracy_score(y_test, y_pred))\n",
    "        precision_scores.append(precision_score(y_test, y_pred))\n",
    "        recall_scores.append(recall_score(y_test, y_pred))\n",
    "        f1_scores.append(f1_score(y_test, y_pred))\n",
    "    print(\"accuracy\", np.mean(accuracy_scores))\n",
    "    print(\"precision_score\", np.mean(precision_scores))\n",
    "    print(\"recall_score\", np.mean(recall_scores))\n",
    "    print(\"f1_scores\", np.mean(f1_scores))\n",
    "    \n",
    "\n",
    "print(\"logistic Regression with all features\")\n",
    "score_model(X1, y, kf)\n",
    "print()\n",
    "print(\"Logistic Regression with anaemia, high_blood_pressure, diabetes and smoking\")\n",
    "score_model(X2, y, kf)\n",
    "print()\n",
    "print(\"Logistic regression model with just anaemia and high_blood_pressure\")\n",
    "score_model(X3, y, kf)\n"
   ]
  },
  {
   "cell_type": "code",
   "execution_count": null,
   "metadata": {},
   "outputs": [],
   "source": []
  },
  {
   "cell_type": "code",
   "execution_count": null,
   "metadata": {},
   "outputs": [],
   "source": []
  }
 ],
 "metadata": {
  "kernelspec": {
   "display_name": "Python 3",
   "language": "python",
   "name": "python3"
  },
  "language_info": {
   "codemirror_mode": {
    "name": "ipython",
    "version": 3
   },
   "file_extension": ".py",
   "mimetype": "text/x-python",
   "name": "python",
   "nbconvert_exporter": "python",
   "pygments_lexer": "ipython3",
   "version": "3.8.3"
  }
 },
 "nbformat": 4,
 "nbformat_minor": 4
}
